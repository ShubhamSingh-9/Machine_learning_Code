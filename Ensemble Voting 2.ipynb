{
 "cells": [
  {
   "cell_type": "code",
   "execution_count": 1,
   "id": "599bdb09",
   "metadata": {},
   "outputs": [],
   "source": [
    "import pandas as pd\n",
    "import numpy as np\n",
    "\n",
    "data_url = \"http://lib.stat.cmu.edu/datasets/boston\"\n",
    "raw_df = pd.read_csv(data_url, sep=\"\\s+\", skiprows=22, header=None)\n",
    "X = np.hstack([raw_df.values[::2, :], raw_df.values[1::2, :2]])\n",
    "y = raw_df.values[1::2, 2]"
   ]
  },
  {
   "cell_type": "code",
   "execution_count": 2,
   "id": "22b0aa24",
   "metadata": {},
   "outputs": [],
   "source": [
    "from sklearn.linear_model import LinearRegression\n",
    "from sklearn.tree import DecisionTreeRegressor\n",
    "from sklearn.svm import SVR\n",
    "from sklearn.model_selection import cross_val_score"
   ]
  },
  {
   "cell_type": "code",
   "execution_count": 3,
   "id": "b2ab8b5f",
   "metadata": {},
   "outputs": [],
   "source": [
    "lr= LinearRegression()\n",
    "dt= DecisionTreeRegressor()\n",
    "svr= SVR()"
   ]
  },
  {
   "cell_type": "code",
   "execution_count": 4,
   "id": "74c3176d",
   "metadata": {},
   "outputs": [],
   "source": [
    "estimators= [('lr', lr),('dt', dt),('svr', svr)]"
   ]
  },
  {
   "cell_type": "code",
   "execution_count": 5,
   "id": "fdf29b1b",
   "metadata": {},
   "outputs": [
    {
     "name": "stdout",
     "output_type": "stream",
     "text": [
      "lr 0.2\n",
      "dt -0.17\n",
      "svr -0.41\n"
     ]
    }
   ],
   "source": [
    "for estimator in estimators:\n",
    "    score= cross_val_score(estimator[1],X,y,cv=10,scoring= 'r2')\n",
    "    print(estimator[0],np.round(np.mean(score),2))"
   ]
  },
  {
   "cell_type": "code",
   "execution_count": 6,
   "id": "2bd92816",
   "metadata": {},
   "outputs": [],
   "source": [
    "from sklearn.ensemble import VotingRegressor"
   ]
  },
  {
   "cell_type": "code",
   "execution_count": 7,
   "id": "a36387bf",
   "metadata": {},
   "outputs": [
    {
     "name": "stdout",
     "output_type": "stream",
     "text": [
      "Voting Regressor 0.41\n"
     ]
    }
   ],
   "source": [
    "vr= VotingRegressor(estimators)\n",
    "score= cross_val_score(vr,X,y,cv=10,scoring= 'r2')\n",
    "print('Voting Regressor',np.round(np.mean(score),2))"
   ]
  },
  {
   "cell_type": "code",
   "execution_count": 12,
   "id": "130d8145",
   "metadata": {},
   "outputs": [],
   "source": [
    "dt1= DecisionTreeRegressor(max_depth= 1)\n",
    "dt2= DecisionTreeRegressor(max_depth= 3)\n",
    "dt3= DecisionTreeRegressor(max_depth= 5)\n",
    "dt4= DecisionTreeRegressor(max_depth= 7)\n",
    "dt5= DecisionTreeRegressor(max_depth= None)"
   ]
  },
  {
   "cell_type": "code",
   "execution_count": 14,
   "id": "5a56db8d",
   "metadata": {},
   "outputs": [
    {
     "name": "stdout",
     "output_type": "stream",
     "text": [
      "dt1 -0.85\n",
      "dt2 -0.11\n",
      "dt3 -0.09\n",
      "dt4 0.12\n",
      "dt5 -0.19\n"
     ]
    }
   ],
   "source": [
    "estimators= [('dt1', dt1),('dt2', dt2),('dt3', dt3),('dt4',dt4),('dt5', dt5)]\n",
    "\n",
    "for estimator in estimators:\n",
    "    score= cross_val_score(estimator[1],X,y,cv=10,scoring= 'r2')\n",
    "    print(estimator[0],np.round(np.mean(score),2))"
   ]
  },
  {
   "cell_type": "code",
   "execution_count": 15,
   "id": "fd8af28c",
   "metadata": {},
   "outputs": [
    {
     "name": "stdout",
     "output_type": "stream",
     "text": [
      "Voting Regressor 0.19\n"
     ]
    }
   ],
   "source": [
    "vr= VotingRegressor(estimators)\n",
    "score= cross_val_score(vr,X,y,cv=10,scoring= 'r2')\n",
    "print('Voting Regressor',np.round(np.mean(score),2))"
   ]
  },
  {
   "cell_type": "code",
   "execution_count": null,
   "id": "1b6b761b",
   "metadata": {},
   "outputs": [],
   "source": []
  }
 ],
 "metadata": {
  "kernelspec": {
   "display_name": "Python 3 (ipykernel)",
   "language": "python",
   "name": "python3"
  },
  "language_info": {
   "codemirror_mode": {
    "name": "ipython",
    "version": 3
   },
   "file_extension": ".py",
   "mimetype": "text/x-python",
   "name": "python",
   "nbconvert_exporter": "python",
   "pygments_lexer": "ipython3",
   "version": "3.10.11"
  }
 },
 "nbformat": 4,
 "nbformat_minor": 5
}
