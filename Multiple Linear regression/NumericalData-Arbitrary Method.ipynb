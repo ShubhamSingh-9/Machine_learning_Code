{
 "cells": [
  {
   "cell_type": "code",
   "execution_count": 27,
   "id": "3e481967",
   "metadata": {},
   "outputs": [],
   "source": [
    "import pandas as pd\n",
    "import numpy as np\n",
    "import matplotlib.pyplot as plt"
   ]
  },
  {
   "cell_type": "code",
   "execution_count": 28,
   "id": "b24c85bf",
   "metadata": {},
   "outputs": [],
   "source": [
    "from sklearn.model_selection import train_test_split\n",
    "from sklearn.impute import SimpleImputer\n",
    "from sklearn.compose import ColumnTransformer"
   ]
  },
  {
   "cell_type": "code",
   "execution_count": 29,
   "id": "c2af3af4",
   "metadata": {},
   "outputs": [],
   "source": [
    "df = pd.read_csv('titanic_toy.csv')"
   ]
  },
  {
   "cell_type": "code",
   "execution_count": 30,
   "id": "78a6da7f",
   "metadata": {},
   "outputs": [
    {
     "data": {
      "text/plain": [
       "Age         19.865320\n",
       "Fare         5.050505\n",
       "Family       0.000000\n",
       "Survived     0.000000\n",
       "dtype: float64"
      ]
     },
     "execution_count": 30,
     "metadata": {},
     "output_type": "execute_result"
    }
   ],
   "source": [
    "df.isnull().mean()*100"
   ]
  },
  {
   "cell_type": "code",
   "execution_count": 31,
   "id": "6380cad3",
   "metadata": {},
   "outputs": [],
   "source": [
    "X = df.drop(columns=['Survived'])\n",
    "y = df['Survived']"
   ]
  },
  {
   "cell_type": "code",
   "execution_count": 32,
   "id": "12e616f8",
   "metadata": {},
   "outputs": [],
   "source": [
    "X_train,X_test,y_train,y_test = train_test_split(X,y,test_size=0.2,random_state=2)"
   ]
  },
  {
   "cell_type": "code",
   "execution_count": 33,
   "id": "de5082b9",
   "metadata": {},
   "outputs": [
    {
     "data": {
      "text/plain": [
       "(array([[657.,  57.,   0.,   0.,   0.,   0.,   0.,   0.,   0.,   0.],\n",
       "        [696., 101.,  27.,   2.,  11.,   6.,   0.,   0.,   0.,   3.],\n",
       "        [891.,   0.,   0.,   0.,   0.,   0.,   0.,   0.,   0.,   0.],\n",
       "        [891.,   0.,   0.,   0.,   0.,   0.,   0.,   0.,   0.,   0.]]),\n",
       " array([  0.     ,  51.23292, 102.46584, 153.69876, 204.93168, 256.1646 ,\n",
       "        307.39752, 358.63044, 409.86336, 461.09628, 512.3292 ]),\n",
       " <a list of 4 BarContainer objects>)"
      ]
     },
     "execution_count": 33,
     "metadata": {},
     "output_type": "execute_result"
    },
    {
     "data": {
      "image/png": "[encoded data removed]",
      "text/plain": [
       "<Figure size 640x480 with 1 Axes>"
      ]
     },
     "metadata": {},
     "output_type": "display_data"
    }
   ],
   "source": [
    "plt.hist(df,bins=10)"
   ]
  },
  {
   "cell_type": "code",
   "execution_count": 34,
   "id": "cf2577f9",
   "metadata": {},
   "outputs": [],
   "source": [
    "#mean_age = X_train['Age'].mean()\n",
    "#median_age = X_train['Age'].median()\n",
    "\n",
    "#mean_fare = X_train['Fare'].mean()\n",
    "#median_fare = X_train['Fare'].median()"
   ]
  },
  {
   "cell_type": "code",
   "execution_count": 35,
   "id": "7832c38a",
   "metadata": {},
   "outputs": [],
   "source": [
    "X_train['99_age'] = X_train['Age'].fillna(99)\n",
    "X_train['-1_age'] = X_train['Age'].fillna(-1)\n",
    "\n",
    "X_train['99_fare'] = X_train['Fare'].fillna(99)\n",
    "X_train['-1_fare'] = X_train['Fare'].fillna(-1)\n",
    "\n",
    "\n",
    "\n",
    "#X_test['mean_age'] = X_test['Age'].fillna(mean_age)\n",
    "#X_test['median_age'] = X_test['Age'].fillna(median_age)\n",
    "\n",
    "#X_test['mean_fare'] = X_test['Fare'].fillna(mean_fare)\n",
    "#X_test['median_fare'] = X_test['Fare'].fillna(median_fare)"
   ]
  },
  {
   "cell_type": "code",
   "execution_count": 36,
   "id": "4c6545e1",
   "metadata": {},
   "outputs": [
    {
     "data": {
      "text/html": [
       "<div>\n",
       "<style scoped>\n",
       "    .dataframe tbody tr th:only-of-type {\n",
       "        vertical-align: middle;\n",
       "    }\n",
       "\n",
       "    .dataframe tbody tr th {\n",
       "        vertical-align: top;\n",
       "    }\n",
       "\n",
       "    .dataframe thead th {\n",
       "        text-align: right;\n",
       "    }\n",
       "</style>\n",
       "<table border=\"1\" class=\"dataframe\">\n",
       "  <thead>\n",
       "    <tr style=\"text-align: right;\">\n",
       "      <th></th>\n",
       "      <th>Age</th>\n",
       "      <th>Fare</th>\n",
       "      <th>Family</th>\n",
       "      <th>99_age</th>\n",
       "      <th>-1_age</th>\n",
       "      <th>99_fare</th>\n",
       "      <th>-1_fare</th>\n",
       "    </tr>\n",
       "  </thead>\n",
       "  <tbody>\n",
       "    <tr>\n",
       "      <th>30</th>\n",
       "      <td>40.0</td>\n",
       "      <td>27.7208</td>\n",
       "      <td>0</td>\n",
       "      <td>40.0</td>\n",
       "      <td>40.0</td>\n",
       "      <td>27.7208</td>\n",
       "      <td>27.7208</td>\n",
       "    </tr>\n",
       "    <tr>\n",
       "      <th>10</th>\n",
       "      <td>4.0</td>\n",
       "      <td>16.7000</td>\n",
       "      <td>2</td>\n",
       "      <td>4.0</td>\n",
       "      <td>4.0</td>\n",
       "      <td>16.7000</td>\n",
       "      <td>16.7000</td>\n",
       "    </tr>\n",
       "    <tr>\n",
       "      <th>873</th>\n",
       "      <td>47.0</td>\n",
       "      <td>9.0000</td>\n",
       "      <td>0</td>\n",
       "      <td>47.0</td>\n",
       "      <td>47.0</td>\n",
       "      <td>9.0000</td>\n",
       "      <td>9.0000</td>\n",
       "    </tr>\n",
       "    <tr>\n",
       "      <th>182</th>\n",
       "      <td>9.0</td>\n",
       "      <td>31.3875</td>\n",
       "      <td>6</td>\n",
       "      <td>9.0</td>\n",
       "      <td>9.0</td>\n",
       "      <td>31.3875</td>\n",
       "      <td>31.3875</td>\n",
       "    </tr>\n",
       "    <tr>\n",
       "      <th>876</th>\n",
       "      <td>20.0</td>\n",
       "      <td>9.8458</td>\n",
       "      <td>0</td>\n",
       "      <td>20.0</td>\n",
       "      <td>20.0</td>\n",
       "      <td>9.8458</td>\n",
       "      <td>9.8458</td>\n",
       "    </tr>\n",
       "    <tr>\n",
       "      <th>...</th>\n",
       "      <td>...</td>\n",
       "      <td>...</td>\n",
       "      <td>...</td>\n",
       "      <td>...</td>\n",
       "      <td>...</td>\n",
       "      <td>...</td>\n",
       "      <td>...</td>\n",
       "    </tr>\n",
       "    <tr>\n",
       "      <th>534</th>\n",
       "      <td>30.0</td>\n",
       "      <td>8.6625</td>\n",
       "      <td>0</td>\n",
       "      <td>30.0</td>\n",
       "      <td>30.0</td>\n",
       "      <td>8.6625</td>\n",
       "      <td>8.6625</td>\n",
       "    </tr>\n",
       "    <tr>\n",
       "      <th>584</th>\n",
       "      <td>NaN</td>\n",
       "      <td>8.7125</td>\n",
       "      <td>0</td>\n",
       "      <td>99.0</td>\n",
       "      <td>-1.0</td>\n",
       "      <td>8.7125</td>\n",
       "      <td>8.7125</td>\n",
       "    </tr>\n",
       "    <tr>\n",
       "      <th>493</th>\n",
       "      <td>71.0</td>\n",
       "      <td>49.5042</td>\n",
       "      <td>0</td>\n",
       "      <td>71.0</td>\n",
       "      <td>71.0</td>\n",
       "      <td>49.5042</td>\n",
       "      <td>49.5042</td>\n",
       "    </tr>\n",
       "    <tr>\n",
       "      <th>527</th>\n",
       "      <td>NaN</td>\n",
       "      <td>221.7792</td>\n",
       "      <td>0</td>\n",
       "      <td>99.0</td>\n",
       "      <td>-1.0</td>\n",
       "      <td>221.7792</td>\n",
       "      <td>221.7792</td>\n",
       "    </tr>\n",
       "    <tr>\n",
       "      <th>168</th>\n",
       "      <td>NaN</td>\n",
       "      <td>25.9250</td>\n",
       "      <td>0</td>\n",
       "      <td>99.0</td>\n",
       "      <td>-1.0</td>\n",
       "      <td>25.9250</td>\n",
       "      <td>25.9250</td>\n",
       "    </tr>\n",
       "  </tbody>\n",
       "</table>\n",
       "<p>712 rows × 7 columns</p>\n",
       "</div>"
      ],
      "text/plain": [
       "      Age      Fare  Family  99_age  -1_age   99_fare   -1_fare\n",
       "30   40.0   27.7208       0    40.0    40.0   27.7208   27.7208\n",
       "10    4.0   16.7000       2     4.0     4.0   16.7000   16.7000\n",
       "873  47.0    9.0000       0    47.0    47.0    9.0000    9.0000\n",
       "182   9.0   31.3875       6     9.0     9.0   31.3875   31.3875\n",
       "876  20.0    9.8458       0    20.0    20.0    9.8458    9.8458\n",
       "..    ...       ...     ...     ...     ...       ...       ...\n",
       "534  30.0    8.6625       0    30.0    30.0    8.6625    8.6625\n",
       "584   NaN    8.7125       0    99.0    -1.0    8.7125    8.7125\n",
       "493  71.0   49.5042       0    71.0    71.0   49.5042   49.5042\n",
       "527   NaN  221.7792       0    99.0    -1.0  221.7792  221.7792\n",
       "168   NaN   25.9250       0    99.0    -1.0   25.9250   25.9250\n",
       "\n",
       "[712 rows x 7 columns]"
      ]
     },
     "execution_count": 36,
     "metadata": {},
     "output_type": "execute_result"
    }
   ],
   "source": [
    "X_train"
   ]
  },
  {
   "cell_type": "code",
   "execution_count": 37,
   "id": "a155e2ad",
   "metadata": {},
   "outputs": [
    {
     "data": {
      "text/plain": [
       "Age        20.786517\n",
       "Fare        5.056180\n",
       "Family      0.000000\n",
       "99_age      0.000000\n",
       "-1_age      0.000000\n",
       "99_fare     0.000000\n",
       "-1_fare     0.000000\n",
       "dtype: float64"
      ]
     },
     "execution_count": 37,
     "metadata": {},
     "output_type": "execute_result"
    }
   ],
   "source": [
    "X_train.isnull().mean()*100"
   ]
  },
  {
   "cell_type": "code",
   "execution_count": 38,
   "id": "367a873f",
   "metadata": {},
   "outputs": [
    {
     "name": "stdout",
     "output_type": "stream",
     "text": [
      "Original Age variable variance:  204.3495133904614\n",
      "Age Variance after mean imputation:  951.7275570187172\n",
      "Age Variance after median imputation:  318.0896202624484\n",
      "Original Fare variable variance:  2448.197913706318\n",
      "Fare Variance after mean imputation:  2536.0773428319685\n",
      "Fare Variance after median imputation:  2378.5676784883503\n"
     ]
    }
   ],
   "source": [
    "print('Original Age variable variance: ', X_train['Age'].var())\n",
    "print('Age Variance after mean imputation: ', X_train['99_age'].var())\n",
    "print('Age Variance after median imputation: ', X_train['-1_age'].var())\n",
    "\n",
    "print('Original Fare variable variance: ', X_train['Fare'].var())\n",
    "print('Fare Variance after mean imputation: ', X_train['99_fare'].var())\n",
    "print('Fare Variance after median imputation: ', X_train['-1_fare'].var())"
   ]
  },
  {
   "cell_type": "code",
   "execution_count": 39,
   "id": "e5454d9d",
   "metadata": {},
   "outputs": [
    {
     "data": {
      "text/plain": [
       "<matplotlib.legend.Legend at 0x1ef3a0d40d0>"
      ]
     },
     "execution_count": 39,
     "metadata": {},
     "output_type": "execute_result"
    },
    {
     "data": {
      "image/png": "[encoded data removed]",
      "text/plain": [
       "<Figure size 640x480 with 1 Axes>"
      ]
     },
     "metadata": {},
     "output_type": "display_data"
    }
   ],
   "source": [
    "fig = plt.figure()\n",
    "ax = fig.add_subplot(111)\n",
    "\n",
    "# original variable distribution\n",
    "X_train['Age'].plot(kind='kde', ax=ax)\n",
    "\n",
    "# variable imputed with the median\n",
    "X_train['99_age'].plot(kind='kde', ax=ax, color='red')\n",
    "\n",
    "# variable imputed with the mean\n",
    "X_train['-1_age'].plot(kind='kde', ax=ax, color='green')\n",
    "\n",
    "# add legends\n",
    "lines, labels = ax.get_legend_handles_labels()\n",
    "ax.legend(lines, labels, loc='best')"
   ]
  },
  {
   "cell_type": "code",
   "execution_count": 40,
   "id": "3ae270d7",
   "metadata": {},
   "outputs": [
    {
     "data": {
      "text/plain": [
       "<matplotlib.legend.Legend at 0x1ef3a0695a0>"
      ]
     },
     "execution_count": 40,
     "metadata": {},
     "output_type": "execute_result"
    },
    {
     "data": {
      "image/png": "[encoded data removed]",
      "text/plain": [
       "<Figure size 640x480 with 1 Axes>"
      ]
     },
     "metadata": {},
     "output_type": "display_data"
    }
   ],
   "source": [
    "fig = plt.figure()\n",
    "ax = fig.add_subplot(111)\n",
    "\n",
    "# original variable distribution\n",
    "X_train['Fare'].plot(kind='kde', ax=ax)\n",
    "\n",
    "# variable imputed with the median\n",
    "X_train['99_fare'].plot(kind='kde', ax=ax, color='red')\n",
    "\n",
    "# variable imputed with the mean\n",
    "X_train['-1_fare'].plot(kind='kde', ax=ax, color='green')\n",
    "\n",
    "# add legends\n",
    "lines, labels = ax.get_legend_handles_labels()\n",
    "ax.legend(lines, labels, loc='best')"
   ]
  },
  {
   "cell_type": "code",
   "execution_count": 41,
   "id": "accf7f4b",
   "metadata": {},
   "outputs": [
    {
     "data": {
      "text/html": [
       "<div>\n",
       "<style scoped>\n",
       "    .dataframe tbody tr th:only-of-type {\n",
       "        vertical-align: middle;\n",
       "    }\n",
       "\n",
       "    .dataframe tbody tr th {\n",
       "        vertical-align: top;\n",
       "    }\n",
       "\n",
       "    .dataframe thead th {\n",
       "        text-align: right;\n",
       "    }\n",
       "</style>\n",
       "<table border=\"1\" class=\"dataframe\">\n",
       "  <thead>\n",
       "    <tr style=\"text-align: right;\">\n",
       "      <th></th>\n",
       "      <th>Age</th>\n",
       "      <th>Fare</th>\n",
       "      <th>Family</th>\n",
       "      <th>99_age</th>\n",
       "      <th>-1_age</th>\n",
       "      <th>99_fare</th>\n",
       "      <th>-1_fare</th>\n",
       "    </tr>\n",
       "  </thead>\n",
       "  <tbody>\n",
       "    <tr>\n",
       "      <th>Age</th>\n",
       "      <td>1.000000</td>\n",
       "      <td>0.092644</td>\n",
       "      <td>-0.299113</td>\n",
       "      <td>1.000000</td>\n",
       "      <td>1.000000</td>\n",
       "      <td>0.095527</td>\n",
       "      <td>0.084585</td>\n",
       "    </tr>\n",
       "    <tr>\n",
       "      <th>Fare</th>\n",
       "      <td>0.092644</td>\n",
       "      <td>1.000000</td>\n",
       "      <td>0.208268</td>\n",
       "      <td>-0.066273</td>\n",
       "      <td>0.142022</td>\n",
       "      <td>1.000000</td>\n",
       "      <td>1.000000</td>\n",
       "    </tr>\n",
       "    <tr>\n",
       "      <th>Family</th>\n",
       "      <td>-0.299113</td>\n",
       "      <td>0.208268</td>\n",
       "      <td>1.000000</td>\n",
       "      <td>-0.144787</td>\n",
       "      <td>-0.140668</td>\n",
       "      <td>0.192723</td>\n",
       "      <td>0.205233</td>\n",
       "    </tr>\n",
       "    <tr>\n",
       "      <th>99_age</th>\n",
       "      <td>1.000000</td>\n",
       "      <td>-0.066273</td>\n",
       "      <td>-0.144787</td>\n",
       "      <td>1.000000</td>\n",
       "      <td>-0.344476</td>\n",
       "      <td>-0.064933</td>\n",
       "      <td>-0.062687</td>\n",
       "    </tr>\n",
       "    <tr>\n",
       "      <th>-1_age</th>\n",
       "      <td>1.000000</td>\n",
       "      <td>0.142022</td>\n",
       "      <td>-0.140668</td>\n",
       "      <td>-0.344476</td>\n",
       "      <td>1.000000</td>\n",
       "      <td>0.143284</td>\n",
       "      <td>0.131514</td>\n",
       "    </tr>\n",
       "    <tr>\n",
       "      <th>99_fare</th>\n",
       "      <td>0.095527</td>\n",
       "      <td>1.000000</td>\n",
       "      <td>0.192723</td>\n",
       "      <td>-0.064933</td>\n",
       "      <td>0.143284</td>\n",
       "      <td>1.000000</td>\n",
       "      <td>0.902648</td>\n",
       "    </tr>\n",
       "    <tr>\n",
       "      <th>-1_fare</th>\n",
       "      <td>0.084585</td>\n",
       "      <td>1.000000</td>\n",
       "      <td>0.205233</td>\n",
       "      <td>-0.062687</td>\n",
       "      <td>0.131514</td>\n",
       "      <td>0.902648</td>\n",
       "      <td>1.000000</td>\n",
       "    </tr>\n",
       "  </tbody>\n",
       "</table>\n",
       "</div>"
      ],
      "text/plain": [
       "              Age      Fare    Family    99_age    -1_age   99_fare   -1_fare\n",
       "Age      1.000000  0.092644 -0.299113  1.000000  1.000000  0.095527  0.084585\n",
       "Fare     0.092644  1.000000  0.208268 -0.066273  0.142022  1.000000  1.000000\n",
       "Family  -0.299113  0.208268  1.000000 -0.144787 -0.140668  0.192723  0.205233\n",
       "99_age   1.000000 -0.066273 -0.144787  1.000000 -0.344476 -0.064933 -0.062687\n",
       "-1_age   1.000000  0.142022 -0.140668 -0.344476  1.000000  0.143284  0.131514\n",
       "99_fare  0.095527  1.000000  0.192723 -0.064933  0.143284  1.000000  0.902648\n",
       "-1_fare  0.084585  1.000000  0.205233 -0.062687  0.131514  0.902648  1.000000"
      ]
     },
     "execution_count": 41,
     "metadata": {},
     "output_type": "execute_result"
    }
   ],
   "source": [
    "X_train.corr()"
   ]
  },
  {
   "cell_type": "code",
   "execution_count": 42,
   "id": "46fa1fbc",
   "metadata": {},
   "outputs": [
    {
     "data": {
      "text/plain": [
       "<Axes: >"
      ]
     },
     "execution_count": 42,
     "metadata": {},
     "output_type": "execute_result"
    },
    {
     "data": {
      "image/png": "[encoded data removed]",
      "text/plain": [
       "<Figure size 640x480 with 1 Axes>"
      ]
     },
     "metadata": {},
     "output_type": "display_data"
    }
   ],
   "source": [
    "X_train[['Age','99_age','-1_age']].boxplot()"
   ]
  },
  {
   "cell_type": "code",
   "execution_count": 43,
   "id": "0a9db9e8",
   "metadata": {},
   "outputs": [
    {
     "data": {
      "text/plain": [
       "<Axes: >"
      ]
     },
     "execution_count": 43,
     "metadata": {},
     "output_type": "execute_result"
    },
    {
     "data": {
      "image/png": "[encoded data removed]",
      "text/plain": [
       "<Figure size 640x480 with 1 Axes>"
      ]
     },
     "metadata": {},
     "output_type": "display_data"
    }
   ],
   "source": [
    "X_train[['Fare','99_fare','-1_fare']].boxplot()"
   ]
  },
  {
   "cell_type": "markdown",
   "id": "d7980e42",
   "metadata": {},
   "source": [
    "# Using Sklearn"
   ]
  },
  {
   "cell_type": "code",
   "execution_count": 44,
   "id": "5409dc5b",
   "metadata": {},
   "outputs": [],
   "source": [
    "X_train,X_test,y_train,y_test = train_test_split(X,y,test_size=0.2,random_state=2)"
   ]
  },
  {
   "cell_type": "code",
   "execution_count": 45,
   "id": "15a210ef",
   "metadata": {},
   "outputs": [],
   "source": [
    "imputer1 = SimpleImputer(strategy='constant', fill_value=99)\n",
    "imputer2 = SimpleImputer(strategy='constant',fill_value=-1)"
   ]
  },
  {
   "cell_type": "code",
   "execution_count": 46,
   "id": "f2288ac8",
   "metadata": {},
   "outputs": [],
   "source": [
    "trf = ColumnTransformer([\n",
    "    ('imputer1',imputer1,['Age']),\n",
    "    ('imputer2',imputer2,['Fare'])\n",
    "],remainder='passthrough')"
   ]
  },
  {
   "cell_type": "code",
   "execution_count": 47,
   "id": "074a672c",
   "metadata": {},
   "outputs": [
    {
     "data": {
      "text/html": [
       "<style>#sk-container-id-2 {color: black;background-color: white;}#sk-container-id-2 pre{padding: 0;}#sk-container-id-2 div.sk-toggleable {background-color: white;}#sk-container-id-2 label.sk-toggleable__label {cursor: pointer;display: block;width: 100%;margin-bottom: 0;padding: 0.3em;box-sizing: border-box;text-align: center;}#sk-container-id-2 label.sk-toggleable__label-arrow:before {content: \"▸\";float: left;margin-right: 0.25em;color: #696969;}#sk-container-id-2 label.sk-toggleable__label-arrow:hover:before {color: black;}#sk-container-id-2 div.sk-estimator:hover label.sk-toggleable__label-arrow:before {color: black;}#sk-container-id-2 div.sk-toggleable__content {max-height: 0;max-width: 0;overflow: hidden;text-align: left;background-color: #f0f8ff;}#sk-container-id-2 div.sk-toggleable__content pre {margin: 0.2em;color: black;border-radius: 0.25em;background-color: #f0f8ff;}#sk-container-id-2 input.sk-toggleable__control:checked~div.sk-toggleable__content {max-height: 200px;max-width: 100%;overflow: auto;}#sk-container-id-2 input.sk-toggleable__control:checked~label.sk-toggleable__label-arrow:before {content: \"▾\";}#sk-container-id-2 div.sk-estimator input.sk-toggleable__control:checked~label.sk-toggleable__label {background-color: #d4ebff;}#sk-container-id-2 div.sk-label input.sk-toggleable__control:checked~label.sk-toggleable__label {background-color: #d4ebff;}#sk-container-id-2 input.sk-hidden--visually {border: 0;clip: rect(1px 1px 1px 1px);clip: rect(1px, 1px, 1px, 1px);height: 1px;margin: -1px;overflow: hidden;padding: 0;position: absolute;width: 1px;}#sk-container-id-2 div.sk-estimator {font-family: monospace;background-color: #f0f8ff;border: 1px dotted black;border-radius: 0.25em;box-sizing: border-box;margin-bottom: 0.5em;}#sk-container-id-2 div.sk-estimator:hover {background-color: #d4ebff;}#sk-container-id-2 div.sk-parallel-item::after {content: \"\";width: 100%;border-bottom: 1px solid gray;flex-grow: 1;}#sk-container-id-2 div.sk-label:hover label.sk-toggleable__label {background-color: #d4ebff;}#sk-container-id-2 div.sk-serial::before {content: \"\";position: absolute;border-left: 1px solid gray;box-sizing: border-box;top: 0;bottom: 0;left: 50%;z-index: 0;}#sk-container-id-2 div.sk-serial {display: flex;flex-direction: column;align-items: center;background-color: white;padding-right: 0.2em;padding-left: 0.2em;position: relative;}#sk-container-id-2 div.sk-item {position: relative;z-index: 1;}#sk-container-id-2 div.sk-parallel {display: flex;align-items: stretch;justify-content: center;background-color: white;position: relative;}#sk-container-id-2 div.sk-item::before, #sk-container-id-2 div.sk-parallel-item::before {content: \"\";position: absolute;border-left: 1px solid gray;box-sizing: border-box;top: 0;bottom: 0;left: 50%;z-index: -1;}#sk-container-id-2 div.sk-parallel-item {display: flex;flex-direction: column;z-index: 1;position: relative;background-color: white;}#sk-container-id-2 div.sk-parallel-item:first-child::after {align-self: flex-end;width: 50%;}#sk-container-id-2 div.sk-parallel-item:last-child::after {align-self: flex-start;width: 50%;}#sk-container-id-2 div.sk-parallel-item:only-child::after {width: 0;}#sk-container-id-2 div.sk-dashed-wrapped {border: 1px dashed gray;margin: 0 0.4em 0.5em 0.4em;box-sizing: border-box;padding-bottom: 0.4em;background-color: white;}#sk-container-id-2 div.sk-label label {font-family: monospace;font-weight: bold;display: inline-block;line-height: 1.2em;}#sk-container-id-2 div.sk-label-container {text-align: center;}#sk-container-id-2 div.sk-container {/* jupyter's `normalize.less` sets `[hidden] { display: none; }` but bootstrap.min.css set `[hidden] { display: none !important; }` so we also need the `!important` here to be able to override the default hidden behavior on the sphinx rendered scikit-learn.org. See: https://github.com/scikit-learn/scikit-learn/issues/21755 */display: inline-block !important;position: relative;}#sk-container-id-2 div.sk-text-repr-fallback {display: none;}</style><div id=\"sk-container-id-2\" class=\"sk-top-container\"><div class=\"sk-text-repr-fallback\"><pre>ColumnTransformer(remainder=&#x27;passthrough&#x27;,\n",
       "                  transformers=[(&#x27;imputer1&#x27;,\n",
       "                                 SimpleImputer(fill_value=99,\n",
       "                                               strategy=&#x27;constant&#x27;),\n",
       "                                 [&#x27;Age&#x27;]),\n",
       "                                (&#x27;imputer2&#x27;,\n",
       "                                 SimpleImputer(fill_value=-1,\n",
       "                                               strategy=&#x27;constant&#x27;),\n",
       "                                 [&#x27;Fare&#x27;])])</pre><b>In a Jupyter environment, please rerun this cell to show the HTML representation or trust the notebook. <br />On GitHub, the HTML representation is unable to render, please try loading this page with nbviewer.org.</b></div><div class=\"sk-container\" hidden><div class=\"sk-item sk-dashed-wrapped\"><div class=\"sk-label-container\"><div class=\"sk-label sk-toggleable\"><input class=\"sk-toggleable__control sk-hidden--visually\" id=\"sk-estimator-id-8\" type=\"checkbox\" ><label for=\"sk-estimator-id-8\" class=\"sk-toggleable__label sk-toggleable__label-arrow\">ColumnTransformer</label><div class=\"sk-toggleable__content\"><pre>ColumnTransformer(remainder=&#x27;passthrough&#x27;,\n",
       "                  transformers=[(&#x27;imputer1&#x27;,\n",
       "                                 SimpleImputer(fill_value=99,\n",
       "                                               strategy=&#x27;constant&#x27;),\n",
       "                                 [&#x27;Age&#x27;]),\n",
       "                                (&#x27;imputer2&#x27;,\n",
       "                                 SimpleImputer(fill_value=-1,\n",
       "                                               strategy=&#x27;constant&#x27;),\n",
       "                                 [&#x27;Fare&#x27;])])</pre></div></div></div><div class=\"sk-parallel\"><div class=\"sk-parallel-item\"><div class=\"sk-item\"><div class=\"sk-label-container\"><div class=\"sk-label sk-toggleable\"><input class=\"sk-toggleable__control sk-hidden--visually\" id=\"sk-estimator-id-9\" type=\"checkbox\" ><label for=\"sk-estimator-id-9\" class=\"sk-toggleable__label sk-toggleable__label-arrow\">imputer1</label><div class=\"sk-toggleable__content\"><pre>[&#x27;Age&#x27;]</pre></div></div></div><div class=\"sk-serial\"><div class=\"sk-item\"><div class=\"sk-estimator sk-toggleable\"><input class=\"sk-toggleable__control sk-hidden--visually\" id=\"sk-estimator-id-10\" type=\"checkbox\" ><label for=\"sk-estimator-id-10\" class=\"sk-toggleable__label sk-toggleable__label-arrow\">SimpleImputer</label><div class=\"sk-toggleable__content\"><pre>SimpleImputer(fill_value=99, strategy=&#x27;constant&#x27;)</pre></div></div></div></div></div></div><div class=\"sk-parallel-item\"><div class=\"sk-item\"><div class=\"sk-label-container\"><div class=\"sk-label sk-toggleable\"><input class=\"sk-toggleable__control sk-hidden--visually\" id=\"sk-estimator-id-11\" type=\"checkbox\" ><label for=\"sk-estimator-id-11\" class=\"sk-toggleable__label sk-toggleable__label-arrow\">imputer2</label><div class=\"sk-toggleable__content\"><pre>[&#x27;Fare&#x27;]</pre></div></div></div><div class=\"sk-serial\"><div class=\"sk-item\"><div class=\"sk-estimator sk-toggleable\"><input class=\"sk-toggleable__control sk-hidden--visually\" id=\"sk-estimator-id-12\" type=\"checkbox\" ><label for=\"sk-estimator-id-12\" class=\"sk-toggleable__label sk-toggleable__label-arrow\">SimpleImputer</label><div class=\"sk-toggleable__content\"><pre>SimpleImputer(fill_value=-1, strategy=&#x27;constant&#x27;)</pre></div></div></div></div></div></div><div class=\"sk-parallel-item\"><div class=\"sk-item\"><div class=\"sk-label-container\"><div class=\"sk-label sk-toggleable\"><input class=\"sk-toggleable__control sk-hidden--visually\" id=\"sk-estimator-id-13\" type=\"checkbox\" ><label for=\"sk-estimator-id-13\" class=\"sk-toggleable__label sk-toggleable__label-arrow\">remainder</label><div class=\"sk-toggleable__content\"><pre>[&#x27;Family&#x27;]</pre></div></div></div><div class=\"sk-serial\"><div class=\"sk-item\"><div class=\"sk-estimator sk-toggleable\"><input class=\"sk-toggleable__control sk-hidden--visually\" id=\"sk-estimator-id-14\" type=\"checkbox\" ><label for=\"sk-estimator-id-14\" class=\"sk-toggleable__label sk-toggleable__label-arrow\">passthrough</label><div class=\"sk-toggleable__content\"><pre>passthrough</pre></div></div></div></div></div></div></div></div></div></div>"
      ],
      "text/plain": [
       "ColumnTransformer(remainder='passthrough',\n",
       "                  transformers=[('imputer1',\n",
       "                                 SimpleImputer(fill_value=99,\n",
       "                                               strategy='constant'),\n",
       "                                 ['Age']),\n",
       "                                ('imputer2',\n",
       "                                 SimpleImputer(fill_value=-1,\n",
       "                                               strategy='constant'),\n",
       "                                 ['Fare'])])"
      ]
     },
     "execution_count": 47,
     "metadata": {},
     "output_type": "execute_result"
    }
   ],
   "source": [
    "trf.fit(X_train)"
   ]
  },
  {
   "cell_type": "code",
   "execution_count": 48,
   "id": "4233b1f9",
   "metadata": {},
   "outputs": [
    {
     "data": {
      "text/plain": [
       "array([99.])"
      ]
     },
     "execution_count": 48,
     "metadata": {},
     "output_type": "execute_result"
    }
   ],
   "source": [
    "trf.named_transformers_['imputer1'].statistics_"
   ]
  },
  {
   "cell_type": "code",
   "execution_count": 49,
   "id": "415d2c46",
   "metadata": {},
   "outputs": [
    {
     "data": {
      "text/plain": [
       "array([-1.])"
      ]
     },
     "execution_count": 49,
     "metadata": {},
     "output_type": "execute_result"
    }
   ],
   "source": [
    "trf.named_transformers_['imputer2'].statistics_"
   ]
  },
  {
   "cell_type": "code",
   "execution_count": 50,
   "id": "575e7097",
   "metadata": {},
   "outputs": [],
   "source": [
    "X_train = trf.transform(X_train)\n",
    "X_test = trf.transform(X_test)"
   ]
  },
  {
   "cell_type": "code",
   "execution_count": 51,
   "id": "253cd85a",
   "metadata": {},
   "outputs": [
    {
     "data": {
      "text/plain": [
       "array([[ 42.    ,  26.2875,   0.    ],\n",
       "       [ 21.    ,   8.05  ,   0.    ],\n",
       "       [ 24.    ,  65.    ,   3.    ],\n",
       "       [ 28.    ,  56.4958,   0.    ],\n",
       "       [ 17.    ,   7.925 ,   6.    ],\n",
       "       [ 30.    ,   7.8958,   0.    ],\n",
       "       [ 80.    ,  30.    ,   0.    ],\n",
       "       [ 25.    ,   7.25  ,   0.    ],\n",
       "       [ 50.    , 133.65  ,   2.    ],\n",
       "       [ 25.    ,  26.    ,   1.    ],\n",
       "       [ 35.    ,  26.    ,   0.    ],\n",
       "       [ 35.    ,  90.    ,   1.    ],\n",
       "       [ 55.    ,  16.    ,   0.    ],\n",
       "       [ 99.    ,  56.4958,   0.    ],\n",
       "       [ 99.    ,  56.4958,   0.    ],\n",
       "       [ 19.    ,   7.8542,   1.    ],\n",
       "       [ 99.    ,  15.2458,   2.    ],\n",
       "       [ 49.    ,   0.    ,   0.    ],\n",
       "       [ 18.    ,  -1.    ,   1.    ],\n",
       "       [ 65.    ,   7.75  ,   0.    ],\n",
       "       [ 18.    , 108.9   ,   1.    ],\n",
       "       [ 99.    ,  22.3583,   2.    ],\n",
       "       [ 16.    ,  18.    ,   2.    ],\n",
       "       [ 21.    ,   9.825 ,   1.    ],\n",
       "       [ 19.    ,   6.75  ,   0.    ],\n",
       "       [  1.    ,  11.1333,   2.    ],\n",
       "       [ 50.    ,  10.5   ,   0.    ],\n",
       "       [ 37.    ,  53.1   ,   1.    ],\n",
       "       [ 28.    ,  -1.    ,   0.    ],\n",
       "       [ 54.    ,  14.    ,   0.    ],\n",
       "       [ 20.    ,   7.925 ,   0.    ],\n",
       "       [ 36.    ,   0.    ,   0.    ],\n",
       "       [  6.    ,  31.275 ,   6.    ],\n",
       "       [ 99.    ,  50.    ,   0.    ],\n",
       "       [ 40.    ,  31.    ,   0.    ],\n",
       "       [ 26.    ,  16.1   ,   1.    ],\n",
       "       [ 30.    ,  -1.    ,   0.    ],\n",
       "       [  1.    ,  46.9   ,   7.    ],\n",
       "       [ 99.    ,   7.8958,   0.    ],\n",
       "       [ 35.    ,  10.5   ,   0.    ],\n",
       "       [ 38.    ,   7.05  ,   0.    ],\n",
       "       [ 44.    ,  16.1   ,   1.    ],\n",
       "       [ 22.    ,   7.75  ,   0.    ],\n",
       "       [ 18.    ,   6.4958,   1.    ],\n",
       "       [ 21.    ,   8.4333,   0.    ],\n",
       "       [ 99.    , 227.525 ,   0.    ],\n",
       "       [ 21.    ,  77.9583,   0.    ],\n",
       "       [ 99.    ,   8.6625,   0.    ],\n",
       "       [ 22.    ,   7.225 ,   0.    ],\n",
       "       [ 27.    ,  10.5   ,   0.    ],\n",
       "       [ 99.    ,   8.05  ,   0.    ],\n",
       "       [ 51.    ,  26.55  ,   0.    ],\n",
       "       [ 28.    ,  33.    ,   1.    ],\n",
       "       [ 47.    ,  38.5   ,   0.    ],\n",
       "       [ 32.    ,  10.5   ,   0.    ],\n",
       "       [ 48.    ,  52.    ,   1.    ],\n",
       "       [ 10.    ,  24.15  ,   2.    ],\n",
       "       [ 21.    ,   8.6625,   0.    ],\n",
       "       [ 51.    ,   7.0542,   0.    ],\n",
       "       [ 32.    ,   7.925 ,   0.    ],\n",
       "       [ 42.    ,  13.    ,   0.    ],\n",
       "       [  2.    ,  26.    ,   2.    ],\n",
       "       [ 35.    ,   8.05  ,   0.    ],\n",
       "       [ 99.    ,   7.25  ,   0.    ],\n",
       "       [  2.    ,  10.4625,   1.    ],\n",
       "       [ 33.    ,   9.5   ,   0.    ],\n",
       "       [ 48.    ,  25.9292,   0.    ],\n",
       "       [ 55.    ,  30.5   ,   0.    ],\n",
       "       [  1.    ,  39.6875,   5.    ],\n",
       "       [ 17.    ,   7.0542,   1.    ],\n",
       "       [ 24.    ,  15.85  ,   1.    ],\n",
       "       [ 74.    ,   7.775 ,   0.    ],\n",
       "       [ 99.    ,  24.15  ,   1.    ],\n",
       "       [ 28.    ,   7.7958,   0.    ],\n",
       "       [ 26.    ,   7.8542,   0.    ],\n",
       "       [  1.    ,  39.    ,   3.    ],\n",
       "       [ 18.    ,   8.05  ,   0.    ],\n",
       "       [  3.    ,  26.    ,   2.    ],\n",
       "       [ 48.    ,  39.6   ,   1.    ],\n",
       "       [ 32.    ,  56.4958,   0.    ],\n",
       "       [ 19.    ,  91.0792,   1.    ],\n",
       "       [ 99.    ,  42.4   ,   0.    ],\n",
       "       [ 70.    ,  10.5   ,   0.    ],\n",
       "       [ 34.    ,  26.    ,   1.    ],\n",
       "       [ 39.    , 110.8833,   2.    ],\n",
       "       [ 17.    ,  10.5   ,   0.    ],\n",
       "       [ 38.    ,   8.6625,   0.    ],\n",
       "       [ 99.    ,   7.8958,   0.    ],\n",
       "       [ 30.    ,  21.    ,   3.    ],\n",
       "       [ 28.    ,  13.    ,   0.    ],\n",
       "       [ 99.    ,   7.725 ,   0.    ],\n",
       "       [ 19.    ,   8.1583,   0.    ],\n",
       "       [ 29.    ,   7.75  ,   0.    ],\n",
       "       [ 99.    ,   7.8958,   0.    ],\n",
       "       [ 44.    ,   7.925 ,   0.    ],\n",
       "       [ 22.    ,  41.5792,   3.    ],\n",
       "       [ 21.    ,  34.375 ,   4.    ],\n",
       "       [ 41.    ,  19.5   ,   1.    ],\n",
       "       [ 99.    ,   7.225 ,   0.    ],\n",
       "       [ 25.    ,  55.4417,   1.    ],\n",
       "       [  0.92  ,  -1.    ,   3.    ],\n",
       "       [ 44.    ,  26.    ,   1.    ],\n",
       "       [ 19.    ,  26.    ,   0.    ],\n",
       "       [ 30.    ,  56.9292,   0.    ],\n",
       "       [ 20.    ,   9.5   ,   0.    ],\n",
       "       [  5.    ,  12.475 ,   0.    ],\n",
       "       [  4.    ,  39.    ,   3.    ],\n",
       "       [ 99.    ,  16.1   ,   1.    ],\n",
       "       [ 38.    ,   0.    ,   0.    ],\n",
       "       [ 28.    ,  22.525 ,   0.    ],\n",
       "       [ 99.    ,  30.    ,   0.    ],\n",
       "       [ 29.    ,   7.775 ,   0.    ],\n",
       "       [ 49.    ,  89.1042,   1.    ],\n",
       "       [ 19.    ,  14.5   ,   0.    ],\n",
       "       [ 18.    , 262.375 ,   4.    ],\n",
       "       [ 31.    ,  26.25  ,   2.    ],\n",
       "       [ 27.    ,   7.7958,   0.    ],\n",
       "       [ 36.    ,  -1.    ,   3.    ],\n",
       "       [  8.    ,  36.75  ,   2.    ],\n",
       "       [  2.    ,  21.075 ,   4.    ],\n",
       "       [ 63.    ,  77.9583,   1.    ],\n",
       "       [ 31.    ,   7.75  ,   0.    ],\n",
       "       [ 99.    ,   0.    ,   0.    ],\n",
       "       [ 25.    ,  13.    ,   0.    ],\n",
       "       [ 20.5   ,   7.25  ,   0.    ],\n",
       "       [ 99.    ,   7.8958,   0.    ],\n",
       "       [ 64.    , 263.    ,   5.    ],\n",
       "       [ 19.    ,  26.    ,   1.    ],\n",
       "       [ 18.    ,   7.775 ,   0.    ],\n",
       "       [ 99.    ,   0.    ,   0.    ],\n",
       "       [ 99.    ,   7.8958,   0.    ],\n",
       "       [ 11.    ,  18.7875,   0.    ],\n",
       "       [ 15.    ,  14.4542,   1.    ],\n",
       "       [ 22.    ,  55.    ,   1.    ],\n",
       "       [ 50.    ,  13.    ,   0.    ],\n",
       "       [ 28.    ,  14.4   ,   2.    ],\n",
       "       [ 39.    ,  13.    ,   0.    ],\n",
       "       [ 99.    ,   8.05  ,   0.    ],\n",
       "       [ 39.    ,  -1.    ,   0.    ],\n",
       "       [ 24.    ,  16.1   ,   1.    ],\n",
       "       [ 23.    ,  -1.    ,   0.    ],\n",
       "       [ 17.    ,  57.    ,   1.    ],\n",
       "       [ 44.    ,  26.    ,   1.    ],\n",
       "       [ 23.    ,  13.7917,   0.    ],\n",
       "       [ 99.    ,  26.55  ,   0.    ],\n",
       "       [ 52.    ,  78.2667,   1.    ],\n",
       "       [ 24.5   ,   8.05  ,   0.    ],\n",
       "       [ 55.5   ,   8.05  ,   0.    ],\n",
       "       [ 18.    ,   7.7958,   0.    ],\n",
       "       [ 18.    ,  13.    ,   2.    ],\n",
       "       [ 45.    ,  83.475 ,   1.    ],\n",
       "       [ 31.    ,  18.    ,   1.    ],\n",
       "       [ 30.5   ,   8.05  ,   0.    ],\n",
       "       [ 42.    ,   8.4042,   1.    ],\n",
       "       [ 99.    ,   7.75  ,   0.    ],\n",
       "       [ 36.    ,   7.4958,   0.    ],\n",
       "       [ 34.    ,  26.55  ,   0.    ],\n",
       "       [ 54.    ,  78.2667,   1.    ],\n",
       "       [ 15.    ,   8.0292,   0.    ],\n",
       "       [ 25.    ,   7.775 ,   1.    ],\n",
       "       [ 26.    ,  -1.    ,   0.    ],\n",
       "       [ 99.    ,   8.1125,   0.    ],\n",
       "       [ 19.    ,   8.05  ,   0.    ],\n",
       "       [ 29.    ,   7.8958,   0.    ],\n",
       "       [ 19.    ,  30.    ,   0.    ],\n",
       "       [ 33.    ,  90.    ,   1.    ],\n",
       "       [ 36.    ,  24.15  ,   2.    ],\n",
       "       [ 99.    ,   7.775 ,   0.    ],\n",
       "       [ 35.    , 512.3292,   0.    ],\n",
       "       [ 22.    ,   7.25  ,   0.    ],\n",
       "       [ 99.    ,  16.1   ,   1.    ],\n",
       "       [ 18.    ,   7.4958,   0.    ],\n",
       "       [ 28.    ,  26.    ,   1.    ],\n",
       "       [ 22.    ,   7.25  ,   0.    ],\n",
       "       [ 24.    ,   8.05  ,   0.    ],\n",
       "       [ 22.    ,   9.    ,   0.    ],\n",
       "       [ 99.    ,  69.55  ,  10.    ],\n",
       "       [ 26.    ,   7.8958,   0.    ],\n",
       "       [ 29.    ,  -1.    ,   2.    ]])"
      ]
     },
     "execution_count": 51,
     "metadata": {},
     "output_type": "execute_result"
    }
   ],
   "source": [
    "X_test"
   ]
  }
 ],
 "metadata": {
  "kernelspec": {
   "display_name": "Python 3 (ipykernel)",
   "language": "python",
   "name": "python3"
  },
  "language_info": {
   "codemirror_mode": {
    "name": "ipython",
    "version": 3
   },
   "file_extension": ".py",
   "mimetype": "text/x-python",
   "name": "python",
   "nbconvert_exporter": "python",
   "pygments_lexer": "ipython3",
   "version": "3.10.11"
  }
 },
 "nbformat": 4,
 "nbformat_minor": 5
}
