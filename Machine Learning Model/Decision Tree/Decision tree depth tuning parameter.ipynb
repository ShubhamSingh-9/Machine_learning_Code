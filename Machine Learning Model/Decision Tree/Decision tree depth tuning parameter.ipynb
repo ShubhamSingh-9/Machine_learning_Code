{
 "cells": [
  {
   "cell_type": "code",
   "execution_count": 1,
   "id": "ea5ba310",
   "metadata": {},
   "outputs": [],
   "source": [
    "import numpy as np\n",
    "import pandas as pd\n",
    "import matplotlib.pyplot as plt\n",
    "from sklearn.tree import DecisionTreeClassifier"
   ]
  },
  {
   "cell_type": "code",
   "execution_count": 12,
   "id": "eac03bd6",
   "metadata": {},
   "outputs": [],
   "source": [
    "def Anlys(max_depth):\n",
    "    data= pd.read_csv('Social_Network_Ads.csv')\n",
    "    X= data.iloc[:,2:4].values\n",
    "    y= data.iloc[:,-1].values\n",
    "    \n",
    "    clf= DecisionTreeClassifier(max_depth= max_depth)\n",
    "    clf.fit(X,y)\n",
    "    \n",
    "    a= np.arange(start= X[:,0].min()-1, stop= X[:,0].max()+1,step= 0.1)\n",
    "    b= np.arange(start= X[:,1].min()-1,stop= X[:,1].max()+1,step= 100)\n",
    "    \n",
    "    XX,YY= np.meshgrid(a,b)\n",
    "    imput_array= np.array([XX.ravel(),YY.ravel()]).T\n",
    "    labels= clf.predict(input_error)\n",
    "    \n",
    "    plt.cotour(XX,YY,labels.reshape(XX,shape),alpha=0.5)\n",
    "    plt.scatter(X[:,0],X[:,1], c= y)   \n",
    "    "
   ]
  },
  {
   "cell_type": "code",
   "execution_count": 13,
   "id": "427a4bfe",
   "metadata": {},
   "outputs": [
    {
     "ename": "NameError",
     "evalue": "name 'input_error' is not defined",
     "output_type": "error",
     "traceback": [
      "\u001b[1;31m---------------------------------------------------------------------------\u001b[0m",
      "\u001b[1;31mNameError\u001b[0m                                 Traceback (most recent call last)",
      "Cell \u001b[1;32mIn[13], line 1\u001b[0m\n\u001b[1;32m----> 1\u001b[0m \u001b[43mAnlys\u001b[49m\u001b[43m(\u001b[49m\u001b[43mmax_depth\u001b[49m\u001b[38;5;241;43m=\u001b[39;49m\u001b[38;5;28;43;01mNone\u001b[39;49;00m\u001b[43m)\u001b[49m\n",
      "Cell \u001b[1;32mIn[12], line 14\u001b[0m, in \u001b[0;36mAnlys\u001b[1;34m(max_depth)\u001b[0m\n\u001b[0;32m     12\u001b[0m XX,YY\u001b[38;5;241m=\u001b[39m np\u001b[38;5;241m.\u001b[39mmeshgrid(a,b)\n\u001b[0;32m     13\u001b[0m imput_array\u001b[38;5;241m=\u001b[39m np\u001b[38;5;241m.\u001b[39marray([XX\u001b[38;5;241m.\u001b[39mravel(),YY\u001b[38;5;241m.\u001b[39mravel()])\u001b[38;5;241m.\u001b[39mT\n\u001b[1;32m---> 14\u001b[0m labels\u001b[38;5;241m=\u001b[39m clf\u001b[38;5;241m.\u001b[39mpredict(\u001b[43minput_error\u001b[49m)\n\u001b[0;32m     16\u001b[0m plt\u001b[38;5;241m.\u001b[39mcotour(XX,YY,labels\u001b[38;5;241m.\u001b[39mreshape(XX,shape),alpha\u001b[38;5;241m=\u001b[39m\u001b[38;5;241m0.5\u001b[39m)\n\u001b[0;32m     17\u001b[0m plt\u001b[38;5;241m.\u001b[39mscatter(X[:,\u001b[38;5;241m0\u001b[39m],X[:,\u001b[38;5;241m1\u001b[39m], c\u001b[38;5;241m=\u001b[39m y)\n",
      "\u001b[1;31mNameError\u001b[0m: name 'input_error' is not defined"
     ]
    }
   ],
   "source": [
    "Anlys(max_depth=None)"
   ]
  },
  {
   "cell_type": "code",
   "execution_count": null,
   "id": "51f7baed",
   "metadata": {},
   "outputs": [],
   "source": []
  }
 ],
 "metadata": {
  "kernelspec": {
   "display_name": "Python 3 (ipykernel)",
   "language": "python",
   "name": "python3"
  },
  "language_info": {
   "codemirror_mode": {
    "name": "ipython",
    "version": 3
   },
   "file_extension": ".py",
   "mimetype": "text/x-python",
   "name": "python",
   "nbconvert_exporter": "python",
   "pygments_lexer": "ipython3",
   "version": "3.10.11"
  }
 },
 "nbformat": 4,
 "nbformat_minor": 5
}
