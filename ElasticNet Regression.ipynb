{
 "cells": [
  {
   "cell_type": "code",
   "execution_count": 2,
   "id": "1eb283b0",
   "metadata": {},
   "outputs": [],
   "source": [
    "from sklearn.datasets import load_diabetes\n",
    "from sklearn.linear_model import LinearRegression,Ridge,Lasso,ElasticNet\n",
    "from sklearn.model_selection import train_test_split\n",
    "from sklearn.metrics import r2_score"
   ]
  },
  {
   "cell_type": "code",
   "execution_count": 5,
   "id": "7e399fed",
   "metadata": {},
   "outputs": [],
   "source": [
    "X,y = load_diabetes(return_X_y=True)"
   ]
  },
  {
   "cell_type": "code",
   "execution_count": 6,
   "id": "a8b31ddd",
   "metadata": {},
   "outputs": [],
   "source": [
    "X_train,X_test,y_train,y_test = train_test_split(X,y,test_size = 0.2, random_state = 2)"
   ]
  },
  {
   "cell_type": "code",
   "execution_count": 11,
   "id": "64301832",
   "metadata": {},
   "outputs": [
    {
     "name": "stdout",
     "output_type": "stream",
     "text": [
      "R_score is  43.99338661568968 %\n"
     ]
    }
   ],
   "source": [
    "LR = LinearRegression()\n",
    "LR.fit(X_train,y_train)\n",
    "y_pred = LR.predict(X_test)\n",
    "print('R_score is ',r2_score(y_test,y_pred)*100,'%')"
   ]
  },
  {
   "cell_type": "code",
   "execution_count": 12,
   "id": "f20bdd60",
   "metadata": {},
   "outputs": [
    {
     "name": "stdout",
     "output_type": "stream",
     "text": [
      "R_score is  45.199494197195456 %\n"
     ]
    }
   ],
   "source": [
    "reg = Ridge(alpha=0.1)\n",
    "reg.fit(X_train,y_train)\n",
    "y_pred1 = reg.predict(X_test)\n",
    "print('R_score is ',r2_score(y_test,y_pred1)*100,'%')"
   ]
  },
  {
   "cell_type": "code",
   "execution_count": 17,
   "id": "c4ba08bb",
   "metadata": {},
   "outputs": [
    {
     "name": "stdout",
     "output_type": "stream",
     "text": [
      "R_score is  43.34618007658305 %\n"
     ]
    }
   ],
   "source": [
    "la = Lasso(alpha=0.1)\n",
    "la.fit(X_train,y_train)\n",
    "y_pred2 = la.predict(X_test)\n",
    "print('R_score is ',r2_score(y_test,y_pred2)*100,'%')"
   ]
  },
  {
   "cell_type": "code",
   "execution_count": 29,
   "id": "dbc15bae",
   "metadata": {},
   "outputs": [
    {
     "name": "stdout",
     "output_type": "stream",
     "text": [
      "R_score is  45.28153343875779 %\n"
     ]
    }
   ],
   "source": [
    "er = ElasticNet(alpha=0.006, l1_ratio = 0.9)\n",
    "er.fit(X_train,y_train)\n",
    "y_pred3 = er.predict(X_test)\n",
    "print('R_score is ',r2_score(y_test,y_pred3)*100,'%')"
   ]
  }
 ],
 "metadata": {
  "kernelspec": {
   "display_name": "Python 3 (ipykernel)",
   "language": "python",
   "name": "python3"
  },
  "language_info": {
   "codemirror_mode": {
    "name": "ipython",
    "version": 3
   },
   "file_extension": ".py",
   "mimetype": "text/x-python",
   "name": "python",
   "nbconvert_exporter": "python",
   "pygments_lexer": "ipython3",
   "version": "3.10.11"
  }
 },
 "nbformat": 4,
 "nbformat_minor": 5
}
