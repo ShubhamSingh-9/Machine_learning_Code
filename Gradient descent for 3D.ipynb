{
 "cells": [
  {
   "cell_type": "code",
   "execution_count": 2,
   "id": "418061e6",
   "metadata": {},
   "outputs": [],
   "source": [
    "from sklearn.datasets import make_regression\n",
    "import numpy as np\n",
    "import pandas as pd\n",
    "from sklearn.model_selection import cross_val_score\n",
    "import matplotlib.pyplot as plt"
   ]
  },
  {
   "cell_type": "code",
   "execution_count": 13,
   "id": "52db5987",
   "metadata": {},
   "outputs": [],
   "source": [
    "X,y = make_regression(n_samples=100,n_features=1,n_informative=1,n_targets=1,noise=20,random_state=13)"
   ]
  },
  {
   "cell_type": "code",
   "execution_count": 14,
   "id": "3911100e",
   "metadata": {},
   "outputs": [
    {
     "name": "stdout",
     "output_type": "stream",
     "text": [
      "[[-0.71239066]\n",
      " [-0.43714566]\n",
      " [-0.45375238]\n",
      " [ 0.95283061]\n",
      " [ 0.23785784]\n",
      " [ 0.86121137]\n",
      " [-0.24332625]\n",
      " [ 0.18494595]\n",
      " [-0.72099967]\n",
      " [-0.42989708]\n",
      " [ 2.01522083]\n",
      " [ 0.39724133]\n",
      " [ 0.20780005]\n",
      " [-0.23242587]\n",
      " [-0.76862702]\n",
      " [ 0.45315861]\n",
      " [ 0.63988397]\n",
      " [ 0.3595323 ]\n",
      " [-1.61510796]\n",
      " [ 1.74924179]\n",
      " [-0.78898902]\n",
      " [-0.51196509]\n",
      " [-0.92833523]\n",
      " [ 2.15038297]\n",
      " [-0.2073497 ]\n",
      " [-1.63909341]\n",
      " [-0.33861825]\n",
      " [-0.32212366]\n",
      " [-0.48137142]\n",
      " [-0.52316421]\n",
      " [ 0.72196506]\n",
      " [ 0.76591105]\n",
      " [ 0.45348104]\n",
      " [-1.26160595]\n",
      " [-2.18711527]\n",
      " [-1.18541881]\n",
      " [ 0.21745166]\n",
      " [ 1.33031692]\n",
      " [-1.08718159]\n",
      " [ 0.56226171]\n",
      " [-1.51284512]\n",
      " [-0.00238903]\n",
      " [-0.27813452]\n",
      " [ 0.45181234]\n",
      " [ 1.19070527]\n",
      " [ 0.92234415]\n",
      " [ 0.81499544]\n",
      " [-0.6209797 ]\n",
      " [ 0.9137407 ]\n",
      " [ 1.13833305]\n",
      " [ 1.47868574]\n",
      " [-0.65105648]\n",
      " [-0.37591996]\n",
      " [-0.77466003]\n",
      " [ 0.50113729]\n",
      " [ 1.3501879 ]\n",
      " [ 0.72916547]\n",
      " [-0.08165156]\n",
      " [-0.85414295]\n",
      " [ 0.46565797]\n",
      " [-0.04450308]\n",
      " [-0.05753239]\n",
      " [ 1.89274222]\n",
      " [-1.04537713]\n",
      " [ 0.56465429]\n",
      " [-1.92415945]\n",
      " [-0.76403397]\n",
      " [ 0.12730328]\n",
      " [-0.02677165]\n",
      " [-0.14521133]\n",
      " [ 0.56284679]\n",
      " [ 0.31735092]\n",
      " [ 0.71097479]\n",
      " [ 0.75376638]\n",
      " [-0.37011608]\n",
      " [ 1.34510171]\n",
      " [ 0.53233789]\n",
      " [-0.98416078]\n",
      " [ 1.350306  ]\n",
      " [-0.34660679]\n",
      " [ 0.51432886]\n",
      " [ 0.10126979]\n",
      " [-0.65751727]\n",
      " [ 0.83090566]\n",
      " [-0.31726597]\n",
      " [-0.98027432]\n",
      " [ 1.39923842]\n",
      " [ 0.54791831]\n",
      " [-0.53032741]\n",
      " [ 0.49087183]\n",
      " [ 0.34875059]\n",
      " [ 2.05369324]\n",
      " [ 0.60628866]\n",
      " [-0.38445769]\n",
      " [-1.94539068]\n",
      " [-0.31485808]\n",
      " [ 1.84961257]\n",
      " [-1.12050687]\n",
      " [-0.33267578]\n",
      " [-0.75745323]]\n",
      "[-3.43198806e+01 -9.42120961e+00 -1.90881877e+01  2.04372122e+01\n",
      "  2.77559659e+01 -2.90750046e+00 -1.41987828e+01  5.40025891e+00\n",
      " -2.64264302e+01 -3.49067872e+01  3.73362043e+01  1.28532816e+01\n",
      "  2.50289888e+01 -1.89608736e+01 -2.34655852e+01  3.77839324e+01\n",
      "  6.69670792e+00 -5.57201352e+00 -4.92158778e+01  1.59474399e+01\n",
      " -4.29667324e+01  6.09015466e+00 -2.53194769e+01  6.28216706e+01\n",
      "  1.24870400e+01 -3.27136530e+01 -1.88255476e+01 -2.93912926e+01\n",
      " -2.86886731e+01  4.38924069e+00  4.63542396e+01  2.43919519e+01\n",
      "  3.79848517e+01 -3.45767718e+01 -6.18736296e+01 -4.64421597e+01\n",
      " -6.88808416e+00  3.96988084e+01 -3.52373298e+01  8.36850884e+00\n",
      " -3.96814412e+01  8.27318308e+00 -4.40722161e+00 -3.01350607e+00\n",
      "  5.78213629e+01  2.46525603e+01  1.81131707e+01 -5.22849035e+01\n",
      "  3.59187182e+01  1.58411788e+01  2.40080546e+01 -2.51245994e+01\n",
      " -4.39284313e+01  1.73925049e+01  1.50322799e+01  3.78339073e+01\n",
      "  6.33015059e+00  5.07266140e+00 -5.57047189e+00  1.98411137e+01\n",
      "  7.04149700e+00 -1.89353310e+01  3.48047372e+01 -5.71391242e+01\n",
      "  3.10524837e+01 -7.57291461e+01 -4.43062883e+01  2.12404103e+01\n",
      " -1.86288622e-01 -2.85657165e+01 -7.39169323e+00  2.52239775e+01\n",
      "  3.25432136e+01  2.93379129e-01 -1.86381423e+01  3.93501682e+01\n",
      "  2.54005098e+00 -4.86320699e+01  5.42818051e+01 -1.02170910e+01\n",
      " -5.66921620e+00  2.34628620e+01 -6.92299670e-02  5.63079459e+00\n",
      " -9.68771368e+00 -4.46638656e+01  3.27083097e+01  1.81174790e+01\n",
      " -1.61432262e+01  4.50414413e+01  2.27466324e+01  3.71085471e+01\n",
      "  1.24760264e+01 -3.58452002e+01 -2.86386661e+01 -2.79790662e+01\n",
      "  6.41794705e+01 -6.07154394e+01  2.22333646e+01 -2.40222151e+00]\n"
     ]
    }
   ],
   "source": [
    "print(X)\n",
    "print(y)"
   ]
  },
  {
   "cell_type": "code",
   "execution_count": 15,
   "id": "3c39f3da",
   "metadata": {},
   "outputs": [
    {
     "data": {
      "text/html": [
       "<div>\n",
       "<style scoped>\n",
       "    .dataframe tbody tr th:only-of-type {\n",
       "        vertical-align: middle;\n",
       "    }\n",
       "\n",
       "    .dataframe tbody tr th {\n",
       "        vertical-align: top;\n",
       "    }\n",
       "\n",
       "    .dataframe thead th {\n",
       "        text-align: right;\n",
       "    }\n",
       "</style>\n",
       "<table border=\"1\" class=\"dataframe\">\n",
       "  <thead>\n",
       "    <tr style=\"text-align: right;\">\n",
       "      <th></th>\n",
       "      <th>0</th>\n",
       "    </tr>\n",
       "  </thead>\n",
       "  <tbody>\n",
       "    <tr>\n",
       "      <th>-34.319881</th>\n",
       "      <td>-0.712391</td>\n",
       "    </tr>\n",
       "    <tr>\n",
       "      <th>-9.421210</th>\n",
       "      <td>-0.437146</td>\n",
       "    </tr>\n",
       "    <tr>\n",
       "      <th>-19.088188</th>\n",
       "      <td>-0.453752</td>\n",
       "    </tr>\n",
       "    <tr>\n",
       "      <th>20.437212</th>\n",
       "      <td>0.952831</td>\n",
       "    </tr>\n",
       "    <tr>\n",
       "      <th>27.755966</th>\n",
       "      <td>0.237858</td>\n",
       "    </tr>\n",
       "    <tr>\n",
       "      <th>...</th>\n",
       "      <td>...</td>\n",
       "    </tr>\n",
       "    <tr>\n",
       "      <th>-27.979066</th>\n",
       "      <td>-0.314858</td>\n",
       "    </tr>\n",
       "    <tr>\n",
       "      <th>64.179470</th>\n",
       "      <td>1.849613</td>\n",
       "    </tr>\n",
       "    <tr>\n",
       "      <th>-60.715439</th>\n",
       "      <td>-1.120507</td>\n",
       "    </tr>\n",
       "    <tr>\n",
       "      <th>22.233365</th>\n",
       "      <td>-0.332676</td>\n",
       "    </tr>\n",
       "    <tr>\n",
       "      <th>-2.402222</th>\n",
       "      <td>-0.757453</td>\n",
       "    </tr>\n",
       "  </tbody>\n",
       "</table>\n",
       "<p>100 rows × 1 columns</p>\n",
       "</div>"
      ],
      "text/plain": [
       "                   0\n",
       "-34.319881 -0.712391\n",
       "-9.421210  -0.437146\n",
       "-19.088188 -0.453752\n",
       " 20.437212  0.952831\n",
       " 27.755966  0.237858\n",
       "...              ...\n",
       "-27.979066 -0.314858\n",
       " 64.179470  1.849613\n",
       "-60.715439 -1.120507\n",
       " 22.233365 -0.332676\n",
       "-2.402222  -0.757453\n",
       "\n",
       "[100 rows x 1 columns]"
      ]
     },
     "execution_count": 15,
     "metadata": {},
     "output_type": "execute_result"
    }
   ],
   "source": [
    "df=pd.DataFrame(X,y)\n",
    "df"
   ]
  },
  {
   "cell_type": "code",
   "execution_count": 16,
   "id": "c1fa892d",
   "metadata": {},
   "outputs": [
    {
     "data": {
      "text/plain": [
       "<matplotlib.collections.PathCollection at 0x2a538ceb940>"
      ]
     },
     "execution_count": 16,
     "metadata": {},
     "output_type": "execute_result"
    },
    {
     "data": {
      "image/png": "[encoded data removed]",
      "text/plain": [
       "<Figure size 640x480 with 1 Axes>"
      ]
     },
     "metadata": {},
     "output_type": "display_data"
    }
   ],
   "source": [
    "plt.scatter(X,y)"
   ]
  },
  {
   "cell_type": "code",
   "execution_count": 58,
   "id": "23f3a333",
   "metadata": {},
   "outputs": [],
   "source": [
    "from sklearn.linear_model import LinearRegression\n",
    "reg=LinearRegression()\n",
    "from sklearn.model_selection import train_test_split\n",
    "X_train,X_test,y_train,y_test = train_test_split(X,y,test_size = 0.2,random_state = 2)"
   ]
  },
  {
   "cell_type": "code",
   "execution_count": 59,
   "id": "eaecd809",
   "metadata": {},
   "outputs": [
    {
     "data": {
      "text/html": [
       "<style>#sk-container-id-3 {color: black;background-color: white;}#sk-container-id-3 pre{padding: 0;}#sk-container-id-3 div.sk-toggleable {background-color: white;}#sk-container-id-3 label.sk-toggleable__label {cursor: pointer;display: block;width: 100%;margin-bottom: 0;padding: 0.3em;box-sizing: border-box;text-align: center;}#sk-container-id-3 label.sk-toggleable__label-arrow:before {content: \"▸\";float: left;margin-right: 0.25em;color: #696969;}#sk-container-id-3 label.sk-toggleable__label-arrow:hover:before {color: black;}#sk-container-id-3 div.sk-estimator:hover label.sk-toggleable__label-arrow:before {color: black;}#sk-container-id-3 div.sk-toggleable__content {max-height: 0;max-width: 0;overflow: hidden;text-align: left;background-color: #f0f8ff;}#sk-container-id-3 div.sk-toggleable__content pre {margin: 0.2em;color: black;border-radius: 0.25em;background-color: #f0f8ff;}#sk-container-id-3 input.sk-toggleable__control:checked~div.sk-toggleable__content {max-height: 200px;max-width: 100%;overflow: auto;}#sk-container-id-3 input.sk-toggleable__control:checked~label.sk-toggleable__label-arrow:before {content: \"▾\";}#sk-container-id-3 div.sk-estimator input.sk-toggleable__control:checked~label.sk-toggleable__label {background-color: #d4ebff;}#sk-container-id-3 div.sk-label input.sk-toggleable__control:checked~label.sk-toggleable__label {background-color: #d4ebff;}#sk-container-id-3 input.sk-hidden--visually {border: 0;clip: rect(1px 1px 1px 1px);clip: rect(1px, 1px, 1px, 1px);height: 1px;margin: -1px;overflow: hidden;padding: 0;position: absolute;width: 1px;}#sk-container-id-3 div.sk-estimator {font-family: monospace;background-color: #f0f8ff;border: 1px dotted black;border-radius: 0.25em;box-sizing: border-box;margin-bottom: 0.5em;}#sk-container-id-3 div.sk-estimator:hover {background-color: #d4ebff;}#sk-container-id-3 div.sk-parallel-item::after {content: \"\";width: 100%;border-bottom: 1px solid gray;flex-grow: 1;}#sk-container-id-3 div.sk-label:hover label.sk-toggleable__label {background-color: #d4ebff;}#sk-container-id-3 div.sk-serial::before {content: \"\";position: absolute;border-left: 1px solid gray;box-sizing: border-box;top: 0;bottom: 0;left: 50%;z-index: 0;}#sk-container-id-3 div.sk-serial {display: flex;flex-direction: column;align-items: center;background-color: white;padding-right: 0.2em;padding-left: 0.2em;position: relative;}#sk-container-id-3 div.sk-item {position: relative;z-index: 1;}#sk-container-id-3 div.sk-parallel {display: flex;align-items: stretch;justify-content: center;background-color: white;position: relative;}#sk-container-id-3 div.sk-item::before, #sk-container-id-3 div.sk-parallel-item::before {content: \"\";position: absolute;border-left: 1px solid gray;box-sizing: border-box;top: 0;bottom: 0;left: 50%;z-index: -1;}#sk-container-id-3 div.sk-parallel-item {display: flex;flex-direction: column;z-index: 1;position: relative;background-color: white;}#sk-container-id-3 div.sk-parallel-item:first-child::after {align-self: flex-end;width: 50%;}#sk-container-id-3 div.sk-parallel-item:last-child::after {align-self: flex-start;width: 50%;}#sk-container-id-3 div.sk-parallel-item:only-child::after {width: 0;}#sk-container-id-3 div.sk-dashed-wrapped {border: 1px dashed gray;margin: 0 0.4em 0.5em 0.4em;box-sizing: border-box;padding-bottom: 0.4em;background-color: white;}#sk-container-id-3 div.sk-label label {font-family: monospace;font-weight: bold;display: inline-block;line-height: 1.2em;}#sk-container-id-3 div.sk-label-container {text-align: center;}#sk-container-id-3 div.sk-container {/* jupyter's `normalize.less` sets `[hidden] { display: none; }` but bootstrap.min.css set `[hidden] { display: none !important; }` so we also need the `!important` here to be able to override the default hidden behavior on the sphinx rendered scikit-learn.org. See: https://github.com/scikit-learn/scikit-learn/issues/21755 */display: inline-block !important;position: relative;}#sk-container-id-3 div.sk-text-repr-fallback {display: none;}</style><div id=\"sk-container-id-3\" class=\"sk-top-container\"><div class=\"sk-text-repr-fallback\"><pre>LinearRegression()</pre><b>In a Jupyter environment, please rerun this cell to show the HTML representation or trust the notebook. <br />On GitHub, the HTML representation is unable to render, please try loading this page with nbviewer.org.</b></div><div class=\"sk-container\" hidden><div class=\"sk-item\"><div class=\"sk-estimator sk-toggleable\"><input class=\"sk-toggleable__control sk-hidden--visually\" id=\"sk-estimator-id-3\" type=\"checkbox\" checked><label for=\"sk-estimator-id-3\" class=\"sk-toggleable__label sk-toggleable__label-arrow\">LinearRegression</label><div class=\"sk-toggleable__content\"><pre>LinearRegression()</pre></div></div></div></div></div>"
      ],
      "text/plain": [
       "LinearRegression()"
      ]
     },
     "execution_count": 59,
     "metadata": {},
     "output_type": "execute_result"
    }
   ],
   "source": [
    "reg.fit(X_train,y_train)"
   ]
  },
  {
   "cell_type": "code",
   "execution_count": 60,
   "id": "b8b0ec25",
   "metadata": {},
   "outputs": [
    {
     "data": {
      "text/plain": [
       "array([28.12597332])"
      ]
     },
     "execution_count": 60,
     "metadata": {},
     "output_type": "execute_result"
    }
   ],
   "source": [
    "reg.coef_"
   ]
  },
  {
   "cell_type": "code",
   "execution_count": 61,
   "id": "1d259212",
   "metadata": {},
   "outputs": [
    {
     "data": {
      "text/plain": [
       "-2.271014426178382"
      ]
     },
     "execution_count": 61,
     "metadata": {},
     "output_type": "execute_result"
    }
   ],
   "source": [
    "reg.intercept_"
   ]
  },
  {
   "cell_type": "code",
   "execution_count": 24,
   "id": "cc5863b5",
   "metadata": {},
   "outputs": [
    {
     "data": {
      "text/plain": [
       "0.6375011587464419"
      ]
     },
     "execution_count": 24,
     "metadata": {},
     "output_type": "execute_result"
    }
   ],
   "source": [
    "np.mean(cross_val_score(reg,X,y,scoring='r2',cv=10))"
   ]
  },
  {
   "cell_type": "code",
   "execution_count": 62,
   "id": "4fc552fb",
   "metadata": {},
   "outputs": [
    {
     "data": {
      "text/plain": [
       "0.6345158782661013"
      ]
     },
     "execution_count": 62,
     "metadata": {},
     "output_type": "execute_result"
    }
   ],
   "source": [
    "y_pred = reg.predict(X_test)\n",
    "from sklearn.metrics import r2_score\n",
    "r2_score(y_test,y_pred)"
   ]
  },
  {
   "cell_type": "code",
   "execution_count": 25,
   "id": "d88b7a4e",
   "metadata": {},
   "outputs": [
    {
     "data": {
      "text/plain": [
       "[<matplotlib.lines.Line2D at 0x2a53882c3a0>]"
      ]
     },
     "execution_count": 25,
     "metadata": {},
     "output_type": "execute_result"
    },
    {
     "data": {
      "image/png": "[encoded data removed]",
      "text/plain": [
       "<Figure size 640x480 with 1 Axes>"
      ]
     },
     "metadata": {},
     "output_type": "display_data"
    }
   ],
   "source": [
    "plt.scatter(X,y)\n",
    "plt.plot(X,reg.predict(X),'r')"
   ]
  },
  {
   "cell_type": "code",
   "execution_count": 26,
   "id": "2835de45",
   "metadata": {},
   "outputs": [
    {
     "data": {
      "text/plain": [
       "array([ 44.18419163,  65.74963788,  64.44850093, 174.65427838,\n",
       "       118.63616163, 167.47591117,  80.93538816, 114.49051521,\n",
       "        43.50967559,  66.31756364, 257.89255164, 131.12385792,\n",
       "       116.28113418,  81.78943293,  39.77807292, 135.50497735,\n",
       "       150.13490931, 128.16935535, -26.54370892, 237.05309425,\n",
       "        38.1827099 ,  59.88753487,  27.26493506, 268.48250549,\n",
       "        83.75415114, -28.42296877,  73.46925979,  74.76161148,\n",
       "        62.28454957,  59.01008376, 156.56596225, 160.00913071,\n",
       "       135.5302395 ,   1.15317418, -71.36048166,   7.1224363 ,\n",
       "       117.03733752, 204.23033097,  14.81932236, 144.05320467,\n",
       "       -18.53141478,  99.81281984,  78.20816063, 135.39949674,\n",
       "       193.2917581 , 172.26566402, 163.85489296,  51.34624032,\n",
       "       171.59158423, 189.18839427, 215.85502753,  48.98972487,\n",
       "        70.54667104,  39.3053864 , 139.26410706, 205.78722194,\n",
       "       157.13011463,  93.60260057,  33.0778996 , 136.48430211,\n",
       "        96.51318381,  95.49233741, 248.29635284,  18.09470182,\n",
       "       144.24066347, -50.75789284,  40.13793848, 109.974212  ,\n",
       "        97.90244122,  88.62269209, 144.09904563, 124.8644448 ,\n",
       "       155.70487518, 159.05759577,  71.00140528, 205.38871886,\n",
       "       141.70867355,  22.89100275, 205.79647478,  72.8433582 ,\n",
       "       140.2976658 , 107.93448771,  48.48352208, 165.10145829,\n",
       "        75.14221117,  23.19550714, 209.63033022, 142.92939956,\n",
       "        58.44884762, 138.45980808, 127.32460903, 260.90686506,\n",
       "       147.50271627,  69.87774038, -52.4213599 ,  75.33086974,\n",
       "       244.91714456,  12.20828663,  73.93485301,  40.65353978])"
      ]
     },
     "execution_count": 26,
     "metadata": {},
     "output_type": "execute_result"
    }
   ],
   "source": [
    "y_pred = ((78.35 * X) + 100).reshape(100)\n",
    "y_pred"
   ]
  },
  {
   "cell_type": "code",
   "execution_count": 27,
   "id": "ee81b9b4",
   "metadata": {},
   "outputs": [
    {
     "data": {
      "image/png": "[encoded data removed]",
      "text/plain": [
       "<Figure size 640x480 with 1 Axes>"
      ]
     },
     "metadata": {},
     "output_type": "display_data"
    }
   ],
   "source": [
    "plt.scatter(X,y)\n",
    "plt.plot(X,reg.predict(X),color='red',label='OLS')\n",
    "plt.plot(X,y_pred,color='b',label='b = 0')\n",
    "plt.legend()\n",
    "plt.show()"
   ]
  },
  {
   "cell_type": "code",
   "execution_count": 28,
   "id": "ed40e3b3",
   "metadata": {},
   "outputs": [
    {
     "data": {
      "text/plain": [
       "21049.119491445497"
      ]
     },
     "execution_count": 28,
     "metadata": {},
     "output_type": "execute_result"
    }
   ],
   "source": [
    "m = 78.35\n",
    "b = 100\n",
    "\n",
    "L = -2 * np.sum(y - m*X.reshape(-1) - b)\n",
    "L"
   ]
  },
  {
   "cell_type": "code",
   "execution_count": 29,
   "id": "51b118d3",
   "metadata": {},
   "outputs": [
    {
     "data": {
      "text/plain": [
       "array([-0.71239066, -0.43714566, -0.45375238,  0.95283061,  0.23785784,\n",
       "        0.86121137, -0.24332625,  0.18494595, -0.72099967, -0.42989708,\n",
       "        2.01522083,  0.39724133,  0.20780005, -0.23242587, -0.76862702,\n",
       "        0.45315861,  0.63988397,  0.3595323 , -1.61510796,  1.74924179,\n",
       "       -0.78898902, -0.51196509, -0.92833523,  2.15038297, -0.2073497 ,\n",
       "       -1.63909341, -0.33861825, -0.32212366, -0.48137142, -0.52316421,\n",
       "        0.72196506,  0.76591105,  0.45348104, -1.26160595, -2.18711527,\n",
       "       -1.18541881,  0.21745166,  1.33031692, -1.08718159,  0.56226171,\n",
       "       -1.51284512, -0.00238903, -0.27813452,  0.45181234,  1.19070527,\n",
       "        0.92234415,  0.81499544, -0.6209797 ,  0.9137407 ,  1.13833305,\n",
       "        1.47868574, -0.65105648, -0.37591996, -0.77466003,  0.50113729,\n",
       "        1.3501879 ,  0.72916547, -0.08165156, -0.85414295,  0.46565797,\n",
       "       -0.04450308, -0.05753239,  1.89274222, -1.04537713,  0.56465429,\n",
       "       -1.92415945, -0.76403397,  0.12730328, -0.02677165, -0.14521133,\n",
       "        0.56284679,  0.31735092,  0.71097479,  0.75376638, -0.37011608,\n",
       "        1.34510171,  0.53233789, -0.98416078,  1.350306  , -0.34660679,\n",
       "        0.51432886,  0.10126979, -0.65751727,  0.83090566, -0.31726597,\n",
       "       -0.98027432,  1.39923842,  0.54791831, -0.53032741,  0.49087183,\n",
       "        0.34875059,  2.05369324,  0.60628866, -0.38445769, -1.94539068,\n",
       "       -0.31485808,  1.84961257, -1.12050687, -0.33267578, -0.75745323])"
      ]
     },
     "execution_count": 29,
     "metadata": {},
     "output_type": "execute_result"
    }
   ],
   "source": [
    "X.ravel()  #reval change the data to 1d can use reshape(-1) as well"
   ]
  },
  {
   "cell_type": "code",
   "execution_count": 30,
   "id": "b44a9254",
   "metadata": {},
   "outputs": [
    {
     "data": {
      "text/plain": [
       "array([[-0.71239066, -0.43714566, -0.45375238,  0.95283061,  0.23785784,\n",
       "         0.86121137, -0.24332625,  0.18494595, -0.72099967, -0.42989708,\n",
       "         2.01522083,  0.39724133,  0.20780005, -0.23242587, -0.76862702,\n",
       "         0.45315861,  0.63988397,  0.3595323 , -1.61510796,  1.74924179,\n",
       "        -0.78898902, -0.51196509, -0.92833523,  2.15038297, -0.2073497 ,\n",
       "        -1.63909341, -0.33861825, -0.32212366, -0.48137142, -0.52316421,\n",
       "         0.72196506,  0.76591105,  0.45348104, -1.26160595, -2.18711527,\n",
       "        -1.18541881,  0.21745166,  1.33031692, -1.08718159,  0.56226171,\n",
       "        -1.51284512, -0.00238903, -0.27813452,  0.45181234,  1.19070527,\n",
       "         0.92234415,  0.81499544, -0.6209797 ,  0.9137407 ,  1.13833305,\n",
       "         1.47868574, -0.65105648, -0.37591996, -0.77466003,  0.50113729,\n",
       "         1.3501879 ,  0.72916547, -0.08165156, -0.85414295,  0.46565797,\n",
       "        -0.04450308, -0.05753239,  1.89274222, -1.04537713,  0.56465429,\n",
       "        -1.92415945, -0.76403397,  0.12730328, -0.02677165, -0.14521133,\n",
       "         0.56284679,  0.31735092,  0.71097479,  0.75376638, -0.37011608,\n",
       "         1.34510171,  0.53233789, -0.98416078,  1.350306  , -0.34660679,\n",
       "         0.51432886,  0.10126979, -0.65751727,  0.83090566, -0.31726597,\n",
       "        -0.98027432,  1.39923842,  0.54791831, -0.53032741,  0.49087183,\n",
       "         0.34875059,  2.05369324,  0.60628866, -0.38445769, -1.94539068,\n",
       "        -0.31485808,  1.84961257, -1.12050687, -0.33267578, -0.75745323]])"
      ]
     },
     "execution_count": 30,
     "metadata": {},
     "output_type": "execute_result"
    }
   ],
   "source": [
    "X.reshape(1,100)"
   ]
  },
  {
   "cell_type": "code",
   "execution_count": 31,
   "id": "320a592b",
   "metadata": {},
   "outputs": [],
   "source": [
    "lr=0.01"
   ]
  },
  {
   "cell_type": "code",
   "execution_count": 32,
   "id": "4c68cf32",
   "metadata": {},
   "outputs": [
    {
     "data": {
      "text/plain": [
       "-110.49119491445498"
      ]
     },
     "execution_count": 32,
     "metadata": {},
     "output_type": "execute_result"
    }
   ],
   "source": [
    "b=b-(lr*L)\n",
    "b"
   ]
  },
  {
   "cell_type": "code",
   "execution_count": 34,
   "id": "ff14aeae",
   "metadata": {},
   "outputs": [
    {
     "data": {
      "image/png": "[encoded data removed]",
      "text/plain": [
       "<Figure size 640x480 with 1 Axes>"
      ]
     },
     "metadata": {},
     "output_type": "display_data"
    }
   ],
   "source": [
    "y_pred2 = ((78.35 * X) + b).reshape(100)\n",
    "\n",
    "plt.scatter(X,y)\n",
    "plt.plot(X,reg.predict(X),color='red',label='OLS')\n",
    "plt.plot(X,y_pred2,color='#00a65a',label='b = {}'.format(b))\n",
    "#plt.plot(X,y_pred1,color='#A3E4D7',label='b = {}'.format(b))\n",
    "plt.plot(X,y_pred,color='#A3E4D7',label='b = 0')\n",
    "plt.legend()\n",
    "plt.show()"
   ]
  },
  {
   "cell_type": "code",
   "execution_count": 35,
   "id": "4c450703",
   "metadata": {},
   "outputs": [
    {
     "name": "stdout",
     "output_type": "stream",
     "text": [
      "1.7763568394002505e-15\n"
     ]
    },
    {
     "data": {
      "image/png": "[encoded data removed]",
      "text/plain": [
       "<Figure size 640x480 with 1 Axes>"
      ]
     },
     "metadata": {},
     "output_type": "display_data"
    }
   ],
   "source": [
    "b = 0\n",
    "m = 78.35\n",
    "lr = 0.01\n",
    "\n",
    "epochs = 2\n",
    "for i in range(epochs):\n",
    "    L = -2 * np.sum(y - m*X.reshape(-1) - b)\n",
    "    b = b - (lr*L)\n",
    "    \n",
    "    y_pred = m*X+b\n",
    "    plt.plot(X,y_pred)\n",
    "\n",
    "plt.scatter(X,y)    \n",
    "print(b)"
   ]
  },
  {
   "cell_type": "code",
   "execution_count": 71,
   "id": "4e69298b",
   "metadata": {},
   "outputs": [],
   "source": [
    "class GD:\n",
    "    \n",
    "    def __init__(self,lr,epochs):\n",
    "        self.m = 100\n",
    "        self.b = -120\n",
    "        self.lr = lr\n",
    "        self.epochs = epochs\n",
    "        \n",
    "    def fit (self,X,y):\n",
    "        for i in range(self.epochs):\n",
    "            slope_b = -2*np.sum(y-self.m*X.reshape(-1)-self.b)\n",
    "            self.b = self.b-(self.lr*slope_b)\n",
    "            slope_m = -2*np.sum((y-self.m*X.reshape(-1)-self.b)*X.reshape(-1))\n",
    "            self.m = self.m-(self.lr*slope_m)\n",
    "            \n",
    "            #print(lr,self.b,slope_m,slope_b)\n",
    "         \n",
    "        print(self.m,self.b) \n",
    "        \n",
    "    def predict(self,X):\n",
    "        return self.m*X + self.b"
   ]
  },
  {
   "cell_type": "code",
   "execution_count": 72,
   "id": "60d12079",
   "metadata": {},
   "outputs": [],
   "source": [
    "gd=GD(0.01,100)"
   ]
  },
  {
   "cell_type": "code",
   "execution_count": 73,
   "id": "4cc8aa38",
   "metadata": {},
   "outputs": [
    {
     "name": "stdout",
     "output_type": "stream",
     "text": [
      "28.12597331513561 -2.271014426178381\n"
     ]
    }
   ],
   "source": [
    "gd.fit(X_train,y_train)"
   ]
  },
  {
   "cell_type": "code",
   "execution_count": 74,
   "id": "4c279ec7",
   "metadata": {},
   "outputs": [
    {
     "data": {
      "text/plain": [
       "0.6345158782661013"
      ]
     },
     "execution_count": 74,
     "metadata": {},
     "output_type": "execute_result"
    }
   ],
   "source": [
    "y_predict = gd.predict(X_test)\n",
    "r2_score(y_test,y_predict)      #cross_val need a class to calculate the score whcih is not in the class so we made a trick"
   ]
  }
 ],
 "metadata": {
  "kernelspec": {
   "display_name": "Python 3 (ipykernel)",
   "language": "python",
   "name": "python3"
  },
  "language_info": {
   "codemirror_mode": {
    "name": "ipython",
    "version": 3
   },
   "file_extension": ".py",
   "mimetype": "text/x-python",
   "name": "python",
   "nbconvert_exporter": "python",
   "pygments_lexer": "ipython3",
   "version": "3.10.11"
  }
 },
 "nbformat": 4,
 "nbformat_minor": 5
}
